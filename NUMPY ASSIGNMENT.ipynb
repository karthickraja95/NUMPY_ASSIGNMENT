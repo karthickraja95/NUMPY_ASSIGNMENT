{
 "cells": [
  {
   "cell_type": "markdown",
   "id": "535f3d9e",
   "metadata": {},
   "source": [
    "## question 1. Create a null vector of size 10 but fifth value which is 1"
   ]
  },
  {
   "cell_type": "code",
   "execution_count": 7,
   "id": "99854d9e",
   "metadata": {},
   "outputs": [],
   "source": [
    "import numpy as np"
   ]
  },
  {
   "cell_type": "code",
   "execution_count": 8,
   "id": "575e8432",
   "metadata": {},
   "outputs": [
    {
     "name": "stdout",
     "output_type": "stream",
     "text": [
      "[0 0 0 0 1 0 0 0 0 0]\n"
     ]
    }
   ],
   "source": [
    "vector = np.zeros(10, dtype = int)\n",
    "vector[4]=1\n",
    "print(vector)"
   ]
  },
  {
   "cell_type": "markdown",
   "id": "7002f01c",
   "metadata": {},
   "source": [
    "## question 2. Create a vector with values ranging from 10 to 49."
   ]
  },
  {
   "cell_type": "code",
   "execution_count": 10,
   "id": "6899ec55",
   "metadata": {},
   "outputs": [
    {
     "data": {
      "text/plain": [
       "array([10, 11, 12, 13, 14, 15, 16, 17, 18, 19, 20, 21, 22, 23, 24, 25, 26,\n",
       "       27, 28, 29, 30, 31, 32, 33, 34, 35, 36, 37, 38, 39, 40, 41, 42, 43,\n",
       "       44, 45, 46, 47, 48, 49])"
      ]
     },
     "execution_count": 10,
     "metadata": {},
     "output_type": "execute_result"
    }
   ],
   "source": [
    "np.arange(start = 10, stop = 50, step = 1, dtype = int)"
   ]
  },
  {
   "cell_type": "markdown",
   "id": "c68dec90",
   "metadata": {},
   "source": [
    "## question 3: create a 3x3 matrix with values ranging from 0 to 8"
   ]
  },
  {
   "cell_type": "code",
   "execution_count": 11,
   "id": "f8d78bfc",
   "metadata": {},
   "outputs": [
    {
     "name": "stdout",
     "output_type": "stream",
     "text": [
      "[[0 1 2]\n",
      " [3 4 5]\n",
      " [6 7 8]]\n"
     ]
    }
   ],
   "source": [
    "import numpy as np\n",
    "m = np.arange(9).reshape(3,3)\n",
    "print(m)"
   ]
  },
  {
   "cell_type": "markdown",
   "id": "0c5c63d9",
   "metadata": {},
   "source": [
    "## question 4. Find indices of non-zero elements from [1,2,0,0,4,0]"
   ]
  },
  {
   "cell_type": "code",
   "execution_count": 17,
   "id": "d624fb3d",
   "metadata": {},
   "outputs": [
    {
     "name": "stdout",
     "output_type": "stream",
     "text": [
      "the indices are (array([0, 1, 4], dtype=int64),)\n"
     ]
    }
   ],
   "source": [
    "z = np.nonzero([1,2,0,0,4,0])\n",
    "print('the indices are', z)"
   ]
  },
  {
   "cell_type": "markdown",
   "id": "17553797",
   "metadata": {},
   "source": [
    "## question 5: create a 10x10 matrix and find max, min values"
   ]
  },
  {
   "cell_type": "code",
   "execution_count": 12,
   "id": "2151772e",
   "metadata": {},
   "outputs": [
    {
     "name": "stdout",
     "output_type": "stream",
     "text": [
      "[[0.39899737 0.07801399 0.27130427 0.62854572 0.92448311 0.85087581\n",
      "  0.98793    0.43449384 0.9518951  0.64193282]\n",
      " [0.02220651 0.1925813  0.1701701  0.86438321 0.17959791 0.42645965\n",
      "  0.6272522  0.97235523 0.92439373 0.51128058]\n",
      " [0.499999   0.55430356 0.06785354 0.0649778  0.23835294 0.41286776\n",
      "  0.67216013 0.84530137 0.09318133 0.63525867]\n",
      " [0.81634304 0.14920527 0.76361959 0.68185731 0.7847741  0.14917641\n",
      "  0.38806551 0.80303473 0.54595269 0.03634805]\n",
      " [0.79456499 0.38691303 0.1732731  0.88515849 0.67840727 0.89042992\n",
      "  0.05725843 0.12131955 0.76174967 0.79958353]\n",
      " [0.9654434  0.43027747 0.21195584 0.30026831 0.39021805 0.08126408\n",
      "  0.1824782  0.94819425 0.01776364 0.15517104]\n",
      " [0.42850091 0.68031796 0.84455008 0.04736212 0.67673947 0.55439431\n",
      "  0.98303813 0.12590665 0.97578049 0.48094441]\n",
      " [0.49628467 0.01722012 0.79603116 0.95968765 0.13266726 0.65039323\n",
      "  0.95747972 0.29325946 0.81546434 0.76836932]\n",
      " [0.82937404 0.90121771 0.93096294 0.54613103 0.89068319 0.83963941\n",
      "  0.01066621 0.70357088 0.62969671 0.21009551]\n",
      " [0.01549051 0.22070679 0.07023824 0.62948388 0.1654423  0.29635205\n",
      "  0.46903553 0.03886443 0.463293   0.09515484]]\n",
      "minimum and maximum values are 0.010666211608712506 0.9879299992118763\n"
     ]
    }
   ],
   "source": [
    "matrix = np.random.random((10,10))\n",
    "print(matrix)\n",
    "\n",
    "matmin, matmax = matrix.min(), matrix.max()\n",
    "print('minimum and maximum values are', matmin, matmax)"
   ]
  },
  {
   "cell_type": "code",
   "execution_count": 13,
   "id": "03e5f94a",
   "metadata": {},
   "outputs": [
    {
     "data": {
      "text/plain": [
       "(10, 10)"
      ]
     },
     "execution_count": 13,
     "metadata": {},
     "output_type": "execute_result"
    }
   ],
   "source": [
    "matrix.shape"
   ]
  },
  {
   "cell_type": "markdown",
   "id": "bb1a1889",
   "metadata": {},
   "source": [
    "## question 6: create a random vector size 30 and find mean value"
   ]
  },
  {
   "cell_type": "code",
   "execution_count": 18,
   "id": "4c492c85",
   "metadata": {},
   "outputs": [
    {
     "name": "stdout",
     "output_type": "stream",
     "text": [
      "random vector is:  [0.68722587 0.46087614 0.48615664 0.78937574 0.34277638 0.43839286\n",
      " 0.44362152 0.21150386 0.23508917 0.23959756 0.67348287 0.90862762\n",
      " 0.99079593 0.9298288  0.54484764 0.61038457 0.26728887 0.8863892\n",
      " 0.90514991 0.10170369 0.57958717 0.12980527 0.66401585 0.07727587\n",
      " 0.71501743 0.6367333  0.7219305  0.72949518 0.75734786 0.20343208]\n",
      "\n",
      "mean is: 0.545591844744784\n"
     ]
    }
   ],
   "source": [
    "v = np.random.random(30)\n",
    "print('random vector is: ', v)\n",
    "print()\n",
    "print('mean is:', np.mean(v))"
   ]
  }
 ],
 "metadata": {
  "kernelspec": {
   "display_name": "Python 3 (ipykernel)",
   "language": "python",
   "name": "python3"
  },
  "language_info": {
   "codemirror_mode": {
    "name": "ipython",
    "version": 3
   },
   "file_extension": ".py",
   "mimetype": "text/x-python",
   "name": "python",
   "nbconvert_exporter": "python",
   "pygments_lexer": "ipython3",
   "version": "3.10.3"
  }
 },
 "nbformat": 4,
 "nbformat_minor": 5
}
